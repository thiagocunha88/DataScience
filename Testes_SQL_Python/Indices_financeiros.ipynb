{
 "cells": [
  {
   "cell_type": "code",
   "execution_count": 1,
   "id": "18f572b5",
   "metadata": {},
   "outputs": [],
   "source": [
    "# from IPython.display import HTML\n",
    "# HTML('''\n",
    "# <script>\n",
    "#     var code_show=true; //true -> hide code at first\n",
    "\n",
    "#     function code_toggle() {\n",
    "#         $('div.prompt').hide(); // always hide prompt\n",
    "\n",
    "#         if (code_show){\n",
    "#             $('div.input').hide();\n",
    "#         } else {\n",
    "#             $('div.input').show();\n",
    "#         }\n",
    "#         code_show = !code_show\n",
    "#     }\n",
    "#     $( document ).ready(code_toggle);\n",
    "# </script>\n",
    "# ''')"
   ]
  },
  {
   "cell_type": "code",
   "execution_count": 2,
   "id": "113b094c",
   "metadata": {},
   "outputs": [],
   "source": [
    "# HTML('''\n",
    "# <a href=\"javascript:code_toggle()\">[Versão impressa]</a>\n",
    "# ''')"
   ]
  },
  {
   "cell_type": "code",
   "execution_count": 3,
   "id": "c1de3e36",
   "metadata": {},
   "outputs": [],
   "source": [
    "import pandas as pd\n",
    "import requests\n",
    "import seaborn as sns\n",
    "import matplotlib.pyplot as plt\n",
    "import warnings\n",
    "warnings.filterwarnings(\"ignore\")"
   ]
  },
  {
   "cell_type": "code",
   "execution_count": 4,
   "id": "35595d84",
   "metadata": {},
   "outputs": [],
   "source": [
    "tabela = pd.read_excel('trxselic.xlsx')\n",
    "tabela.columns = ['Data', 'TR', 'Selic','Relacao']\n",
    "variacao_selic = []\n",
    "variacao_tr = []\n",
    "for i, taxa in enumerate(tabela['Selic']):\n",
    "    if i == 0:\n",
    "        variacao_selic.append(0)\n",
    "        continue\n",
    "    if tabela['Selic'][i -1] == 0:\n",
    "        variacao_selic.append(0)\n",
    "        continue\n",
    "    v = ((tabela['Selic'][i] / tabela['Selic'][i -1]) - 1)*100\n",
    "    variacao_selic.append(v)\n",
    "    \n",
    "for i, taxa in enumerate(tabela['TR']):\n",
    "    if i == 0:\n",
    "        variacao_tr.append(0)\n",
    "        continue\n",
    "    if tabela['TR'][i -1] == 0:\n",
    "        variacao_tr.append(0)\n",
    "        continue\n",
    "    v = ((tabela['TR'][i] / tabela['TR'][i -1]) - 1)*100\n",
    "    variacao_tr.append(v)\n",
    "tabela['Var_TR'] = variacao_tr    \n",
    "tabela['Var_Selic'] = variacao_selic\n",
    "tabela['Relacao'] = tabela['Relacao'] * 100"
   ]
  },
  {
   "cell_type": "code",
   "execution_count": 35,
   "id": "8a9249c3",
   "metadata": {},
   "outputs": [
    {
     "data": {
      "text/html": [
       "<div>\n",
       "<style scoped>\n",
       "    .dataframe tbody tr th:only-of-type {\n",
       "        vertical-align: middle;\n",
       "    }\n",
       "\n",
       "    .dataframe tbody tr th {\n",
       "        vertical-align: top;\n",
       "    }\n",
       "\n",
       "    .dataframe thead th {\n",
       "        text-align: right;\n",
       "    }\n",
       "</style>\n",
       "<table border=\"1\" class=\"dataframe\">\n",
       "  <thead>\n",
       "    <tr style=\"text-align: right;\">\n",
       "      <th></th>\n",
       "      <th>Data</th>\n",
       "      <th>TR</th>\n",
       "      <th>Selic</th>\n",
       "      <th>Relacao</th>\n",
       "      <th>Var_TR</th>\n",
       "      <th>Var_Selic</th>\n",
       "    </tr>\n",
       "  </thead>\n",
       "  <tbody>\n",
       "    <tr>\n",
       "      <th>0</th>\n",
       "      <td>2010-01-01</td>\n",
       "      <td>0.0000</td>\n",
       "      <td>0.6706</td>\n",
       "      <td>0.000000</td>\n",
       "      <td>0.000000</td>\n",
       "      <td>0.000000</td>\n",
       "    </tr>\n",
       "    <tr>\n",
       "      <th>1</th>\n",
       "      <td>2010-02-01</td>\n",
       "      <td>0.0000</td>\n",
       "      <td>0.6034</td>\n",
       "      <td>0.000000</td>\n",
       "      <td>0.000000</td>\n",
       "      <td>-10.020877</td>\n",
       "    </tr>\n",
       "    <tr>\n",
       "      <th>2</th>\n",
       "      <td>2010-03-01</td>\n",
       "      <td>0.0792</td>\n",
       "      <td>0.7716</td>\n",
       "      <td>10.264386</td>\n",
       "      <td>0.000000</td>\n",
       "      <td>27.875373</td>\n",
       "    </tr>\n",
       "    <tr>\n",
       "      <th>3</th>\n",
       "      <td>2010-04-01</td>\n",
       "      <td>0.0000</td>\n",
       "      <td>0.6761</td>\n",
       "      <td>0.000000</td>\n",
       "      <td>-100.000000</td>\n",
       "      <td>-12.376879</td>\n",
       "    </tr>\n",
       "    <tr>\n",
       "      <th>4</th>\n",
       "      <td>2010-05-01</td>\n",
       "      <td>0.0510</td>\n",
       "      <td>0.7622</td>\n",
       "      <td>6.691157</td>\n",
       "      <td>0.000000</td>\n",
       "      <td>12.734803</td>\n",
       "    </tr>\n",
       "    <tr>\n",
       "      <th>...</th>\n",
       "      <td>...</td>\n",
       "      <td>...</td>\n",
       "      <td>...</td>\n",
       "      <td>...</td>\n",
       "      <td>...</td>\n",
       "      <td>...</td>\n",
       "    </tr>\n",
       "    <tr>\n",
       "      <th>91</th>\n",
       "      <td>2017-08-01</td>\n",
       "      <td>0.0509</td>\n",
       "      <td>0.8107</td>\n",
       "      <td>6.278525</td>\n",
       "      <td>-18.298555</td>\n",
       "      <td>0.645562</td>\n",
       "    </tr>\n",
       "    <tr>\n",
       "      <th>92</th>\n",
       "      <td>2017-09-01</td>\n",
       "      <td>0.0000</td>\n",
       "      <td>0.6458</td>\n",
       "      <td>0.000000</td>\n",
       "      <td>-100.000000</td>\n",
       "      <td>-20.340447</td>\n",
       "    </tr>\n",
       "    <tr>\n",
       "      <th>93</th>\n",
       "      <td>2017-10-01</td>\n",
       "      <td>0.0000</td>\n",
       "      <td>0.6228</td>\n",
       "      <td>0.000000</td>\n",
       "      <td>0.000000</td>\n",
       "      <td>-3.561474</td>\n",
       "    </tr>\n",
       "    <tr>\n",
       "      <th>94</th>\n",
       "      <td>2017-11-01</td>\n",
       "      <td>0.0000</td>\n",
       "      <td>0.5756</td>\n",
       "      <td>0.000000</td>\n",
       "      <td>0.000000</td>\n",
       "      <td>-7.578677</td>\n",
       "    </tr>\n",
       "    <tr>\n",
       "      <th>95</th>\n",
       "      <td>2017-12-01</td>\n",
       "      <td>0.0000</td>\n",
       "      <td>0.5459</td>\n",
       "      <td>0.000000</td>\n",
       "      <td>0.000000</td>\n",
       "      <td>-5.159833</td>\n",
       "    </tr>\n",
       "  </tbody>\n",
       "</table>\n",
       "<p>96 rows × 6 columns</p>\n",
       "</div>"
      ],
      "text/plain": [
       "         Data      TR   Selic    Relacao      Var_TR  Var_Selic\n",
       "0  2010-01-01  0.0000  0.6706   0.000000    0.000000   0.000000\n",
       "1  2010-02-01  0.0000  0.6034   0.000000    0.000000 -10.020877\n",
       "2  2010-03-01  0.0792  0.7716  10.264386    0.000000  27.875373\n",
       "3  2010-04-01  0.0000  0.6761   0.000000 -100.000000 -12.376879\n",
       "4  2010-05-01  0.0510  0.7622   6.691157    0.000000  12.734803\n",
       "..        ...     ...     ...        ...         ...        ...\n",
       "91 2017-08-01  0.0509  0.8107   6.278525  -18.298555   0.645562\n",
       "92 2017-09-01  0.0000  0.6458   0.000000 -100.000000 -20.340447\n",
       "93 2017-10-01  0.0000  0.6228   0.000000    0.000000  -3.561474\n",
       "94 2017-11-01  0.0000  0.5756   0.000000    0.000000  -7.578677\n",
       "95 2017-12-01  0.0000  0.5459   0.000000    0.000000  -5.159833\n",
       "\n",
       "[96 rows x 6 columns]"
      ]
     },
     "execution_count": 35,
     "metadata": {},
     "output_type": "execute_result"
    }
   ],
   "source": [
    "tabela"
   ]
  },
  {
   "cell_type": "code",
   "execution_count": 59,
   "id": "1621fd37",
   "metadata": {},
   "outputs": [
    {
     "data": {
      "text/html": [
       "<div>\n",
       "<style scoped>\n",
       "    .dataframe tbody tr th:only-of-type {\n",
       "        vertical-align: middle;\n",
       "    }\n",
       "\n",
       "    .dataframe tbody tr th {\n",
       "        vertical-align: top;\n",
       "    }\n",
       "\n",
       "    .dataframe thead th {\n",
       "        text-align: right;\n",
       "    }\n",
       "</style>\n",
       "<table border=\"1\" class=\"dataframe\">\n",
       "  <thead>\n",
       "    <tr style=\"text-align: right;\">\n",
       "      <th></th>\n",
       "      <th>Relacao TR x Selic (%)</th>\n",
       "    </tr>\n",
       "  </thead>\n",
       "  <tbody>\n",
       "    <tr>\n",
       "      <th>Média</th>\n",
       "      <td>10.24</td>\n",
       "    </tr>\n",
       "    <tr>\n",
       "      <th>Desvio padrão</th>\n",
       "      <td>4.92</td>\n",
       "    </tr>\n",
       "    <tr>\n",
       "      <th>Mínimo</th>\n",
       "      <td>1.10</td>\n",
       "    </tr>\n",
       "    <tr>\n",
       "      <th>25%</th>\n",
       "      <td>6.42</td>\n",
       "    </tr>\n",
       "    <tr>\n",
       "      <th>50%</th>\n",
       "      <td>10.26</td>\n",
       "    </tr>\n",
       "    <tr>\n",
       "      <th>75%</th>\n",
       "      <td>13.70</td>\n",
       "    </tr>\n",
       "    <tr>\n",
       "      <th>Máximo</th>\n",
       "      <td>20.80</td>\n",
       "    </tr>\n",
       "  </tbody>\n",
       "</table>\n",
       "</div>"
      ],
      "text/plain": [
       "               Relacao TR x Selic (%)\n",
       "Média                           10.24\n",
       "Desvio padrão                    4.92\n",
       "Mínimo                           1.10\n",
       "25%                              6.42\n",
       "50%                             10.26\n",
       "75%                             13.70\n",
       "Máximo                          20.80"
      ]
     },
     "metadata": {},
     "output_type": "display_data"
    }
   ],
   "source": [
    "resumo = pd.DataFrame(round(tabela.query('TR != 0')['Relacao'].describe(),2))\n",
    "resumo.columns = ['Relacao TR x Selic (%)']\n",
    "resumo = resumo[1:]\n",
    "resumo.index = ['Média','Desvio padrão', 'Mínimo', '25%', '50%','75%','Máximo']\n",
    "display(resumo)"
   ]
  },
  {
   "cell_type": "code",
   "execution_count": 60,
   "id": "e26d5038",
   "metadata": {},
   "outputs": [
    {
     "data": {
      "text/plain": [
       "Text(0.5, 1.0, 'Distribuição da relação entre Selic e TR (%)')"
      ]
     },
     "execution_count": 60,
     "metadata": {},
     "output_type": "execute_result"
    },
    {
     "data": {
      "image/png": "[encoded data removed]",
      "text/plain": [
       "<Figure size 864x432 with 1 Axes>"
      ]
     },
     "metadata": {
      "needs_background": "light"
     },
     "output_type": "display_data"
    }
   ],
   "source": [
    "graf1 = sns.boxplot(tabela.query('TR != 0')['Relacao'].round(2))\n",
    "graf1.figure.set_size_inches(12,6)\n",
    "plt.title('Distribuição da relação entre Selic e TR (%)')"
   ]
  },
  {
   "cell_type": "code",
   "execution_count": 92,
   "id": "f41f888f",
   "metadata": {},
   "outputs": [
    {
     "data": {
      "text/plain": [
       "Text(0.5, 1.0, 'Distribuição da Relação entre Tr x Selic')"
      ]
     },
     "execution_count": 92,
     "metadata": {},
     "output_type": "execute_result"
    },
    {
     "data": {
      "image/png": "[encoded data removed]",
      "text/plain": [
       "<Figure size 720x360 with 1 Axes>"
      ]
     },
     "metadata": {
      "needs_background": "light"
     },
     "output_type": "display_data"
    }
   ],
   "source": [
    "fig, graf1 = plt.subplots(figsize=(10, 5), layout='constrained')\n",
    "graf1.boxplot(tabela.query('TR != 0')['Relacao'].round(2), vert=False, patch_artist=True, widths=1.5, showmeans=True)\n",
    "graf1.set_xlabel('%')\n",
    "graf1.set_title('Distribuição da Relação entre Tr x Selic')"
   ]
  },
  {
   "cell_type": "code",
   "execution_count": 93,
   "id": "c1790956",
   "metadata": {},
   "outputs": [
    {
     "data": {
      "text/plain": [
       "<AxesSubplot:>"
      ]
     },
     "execution_count": 93,
     "metadata": {},
     "output_type": "execute_result"
    },
    {
     "data": {
      "image/png": "[encoded data removed]",
      "text/plain": [
       "<Figure size 432x288 with 1 Axes>"
      ]
     },
     "metadata": {
      "needs_background": "light"
     },
     "output_type": "display_data"
    }
   ],
   "source": [
    "tabela.query('TR != 0')['Relacao'].round(2).hist()"
   ]
  },
  {
   "cell_type": "code",
   "execution_count": 43,
   "id": "ec52b10b",
   "metadata": {},
   "outputs": [
    {
     "data": {
      "text/plain": [
       "<matplotlib.legend.Legend at 0x21a6a8e0>"
      ]
     },
     "execution_count": 43,
     "metadata": {},
     "output_type": "execute_result"
    },
    {
     "data": {
      "image/png": "[encoded data removed]",
      "text/plain": [
       "<Figure size 864x432 with 1 Axes>"
      ]
     },
     "metadata": {
      "needs_background": "light"
     },
     "output_type": "display_data"
    }
   ],
   "source": [
    "# Gráfico 1\n",
    "graf2 = sns.lineplot(x = 'Data', y = 'Selic', data = tabela.query('TR != 0'), color='r')\n",
    "graf2.figure.set_size_inches(12,6)\n",
    "graf3 = sns.lineplot(x = 'Data', y = 'TR', data = tabela.query('TR != 0'), color='b')\n",
    "graf3.figure.set_size_inches(12,6)\n",
    "plt."
   ]
  },
  {
   "cell_type": "code",
   "execution_count": 62,
   "id": "c4d6ceeb",
   "metadata": {},
   "outputs": [
    {
     "data": {
      "text/plain": [
       "<matplotlib.legend.Legend at 0x2170f580>"
      ]
     },
     "execution_count": 62,
     "metadata": {},
     "output_type": "execute_result"
    },
    {
     "data": {
      "image/png": "[encoded data removed]",
      "text/plain": [
       "<Figure size 720x360 with 1 Axes>"
      ]
     },
     "metadata": {
      "needs_background": "light"
     },
     "output_type": "display_data"
    }
   ],
   "source": [
    "fig, graf2 = plt.subplots(figsize=(10, 5), layout='constrained')\n",
    "graf2.plot('Data', 'Selic', label='Selic mensal', data=tabela.query('TR != 0'), linewidth=2.0)\n",
    "graf2.plot('Data', 'TR', label='TR mensal', data=tabela.query('TR != 0'), linewidth=2.0)\n",
    "graf2.set_xlabel('Período')\n",
    "graf2.set_ylabel('%')\n",
    "graf2.legend()"
   ]
  },
  {
   "cell_type": "code",
   "execution_count": null,
   "id": "962c132a",
   "metadata": {},
   "outputs": [],
   "source": [
    "# Note that even in the OO-style, we use `.pyplot.figure` to create the Figure.\n",
    "fig, ax = plt.subplots(figsize=(5, 2.7), layout='constrained')\n",
    "ax.plot(x, x, label='linear')  # Plot some data on the axes.\n",
    "ax.plot(x, x**2, label='quadratic')  # Plot more data on the axes...\n",
    "ax.plot(x, x**3, label='cubic')  # ... and some more.\n",
    "ax.set_xlabel('x label')  # Add an x-label to the axes.\n",
    "ax.set_ylabel('y label')  # Add a y-label to the axes.\n",
    "ax.set_title(\"Simple Plot\")  # Add a title to the axes.\n",
    "ax.legend();  # Add a legend."
   ]
  },
  {
   "cell_type": "code",
   "execution_count": 22,
   "id": "5d45c1c8",
   "metadata": {},
   "outputs": [
    {
     "data": {
      "text/plain": [
       "count    3.000000\n",
       "mean     0.755767\n",
       "std      0.038783\n",
       "min      0.715600\n",
       "25%      0.737150\n",
       "50%      0.758700\n",
       "75%      0.775850\n",
       "max      0.793000\n",
       "Name: Selic, dtype: float64"
      ]
     },
     "execution_count": 22,
     "metadata": {},
     "output_type": "execute_result"
    }
   ],
   "source": [
    "tabela.query('TR == 0 and Selic > 0.68')['Selic'].describe()"
   ]
  },
  {
   "cell_type": "code",
   "execution_count": 23,
   "id": "a1b3060f",
   "metadata": {},
   "outputs": [
    {
     "data": {
      "text/html": [
       "<div>\n",
       "<style scoped>\n",
       "    .dataframe tbody tr th:only-of-type {\n",
       "        vertical-align: middle;\n",
       "    }\n",
       "\n",
       "    .dataframe tbody tr th {\n",
       "        vertical-align: top;\n",
       "    }\n",
       "\n",
       "    .dataframe thead th {\n",
       "        text-align: right;\n",
       "    }\n",
       "</style>\n",
       "<table border=\"1\" class=\"dataframe\">\n",
       "  <thead>\n",
       "    <tr style=\"text-align: right;\">\n",
       "      <th></th>\n",
       "      <th>Data</th>\n",
       "      <th>TR</th>\n",
       "      <th>Selic</th>\n",
       "      <th>Relacao</th>\n",
       "      <th>Var_TR</th>\n",
       "      <th>Var_Selic</th>\n",
       "    </tr>\n",
       "  </thead>\n",
       "  <tbody>\n",
       "    <tr>\n",
       "      <th>25</th>\n",
       "      <td>2012-02-01</td>\n",
       "      <td>0.0</td>\n",
       "      <td>0.7587</td>\n",
       "      <td>0.0</td>\n",
       "      <td>-100.0</td>\n",
       "      <td>-15.942832</td>\n",
       "    </tr>\n",
       "    <tr>\n",
       "      <th>43</th>\n",
       "      <td>2013-08-01</td>\n",
       "      <td>0.0</td>\n",
       "      <td>0.7156</td>\n",
       "      <td>0.0</td>\n",
       "      <td>-100.0</td>\n",
       "      <td>-1.932301</td>\n",
       "    </tr>\n",
       "    <tr>\n",
       "      <th>87</th>\n",
       "      <td>2017-04-01</td>\n",
       "      <td>0.0</td>\n",
       "      <td>0.7930</td>\n",
       "      <td>0.0</td>\n",
       "      <td>-100.0</td>\n",
       "      <td>-25.209846</td>\n",
       "    </tr>\n",
       "  </tbody>\n",
       "</table>\n",
       "</div>"
      ],
      "text/plain": [
       "         Data   TR   Selic  Relacao  Var_TR  Var_Selic\n",
       "25 2012-02-01  0.0  0.7587      0.0  -100.0 -15.942832\n",
       "43 2013-08-01  0.0  0.7156      0.0  -100.0  -1.932301\n",
       "87 2017-04-01  0.0  0.7930      0.0  -100.0 -25.209846"
      ]
     },
     "execution_count": 23,
     "metadata": {},
     "output_type": "execute_result"
    }
   ],
   "source": [
    "tabela.query('TR == 0 and Selic >= 0.691700')"
   ]
  },
  {
   "cell_type": "raw",
   "id": "04f31f6e",
   "metadata": {
    "scrolled": false
   },
   "source": [
    "tabela.query('Data >= \"2011-06-01\" and Data <= \"2012-12-01\"')"
   ]
  },
  {
   "cell_type": "code",
   "execution_count": 24,
   "id": "2e95a38b",
   "metadata": {},
   "outputs": [
    {
     "data": {
      "text/html": [
       "<div>\n",
       "<style scoped>\n",
       "    .dataframe tbody tr th:only-of-type {\n",
       "        vertical-align: middle;\n",
       "    }\n",
       "\n",
       "    .dataframe tbody tr th {\n",
       "        vertical-align: top;\n",
       "    }\n",
       "\n",
       "    .dataframe thead th {\n",
       "        text-align: right;\n",
       "    }\n",
       "</style>\n",
       "<table border=\"1\" class=\"dataframe\">\n",
       "  <thead>\n",
       "    <tr style=\"text-align: right;\">\n",
       "      <th></th>\n",
       "      <th>Data</th>\n",
       "      <th>TR</th>\n",
       "      <th>Selic</th>\n",
       "      <th>Relacao</th>\n",
       "      <th>Var_TR</th>\n",
       "      <th>Var_Selic</th>\n",
       "    </tr>\n",
       "  </thead>\n",
       "  <tbody>\n",
       "    <tr>\n",
       "      <th>36</th>\n",
       "      <td>2013-01-01</td>\n",
       "      <td>0.0000</td>\n",
       "      <td>0.6105</td>\n",
       "      <td>0.000000</td>\n",
       "      <td>0.000000</td>\n",
       "      <td>9.154300</td>\n",
       "    </tr>\n",
       "    <tr>\n",
       "      <th>37</th>\n",
       "      <td>2013-02-01</td>\n",
       "      <td>0.0000</td>\n",
       "      <td>0.4992</td>\n",
       "      <td>0.000000</td>\n",
       "      <td>0.000000</td>\n",
       "      <td>-18.230958</td>\n",
       "    </tr>\n",
       "    <tr>\n",
       "      <th>38</th>\n",
       "      <td>2013-03-01</td>\n",
       "      <td>0.0000</td>\n",
       "      <td>0.5548</td>\n",
       "      <td>0.000000</td>\n",
       "      <td>0.000000</td>\n",
       "      <td>11.137821</td>\n",
       "    </tr>\n",
       "    <tr>\n",
       "      <th>39</th>\n",
       "      <td>2013-04-01</td>\n",
       "      <td>0.0000</td>\n",
       "      <td>0.6188</td>\n",
       "      <td>0.000000</td>\n",
       "      <td>0.000000</td>\n",
       "      <td>11.535689</td>\n",
       "    </tr>\n",
       "    <tr>\n",
       "      <th>40</th>\n",
       "      <td>2013-05-01</td>\n",
       "      <td>0.0000</td>\n",
       "      <td>0.6039</td>\n",
       "      <td>0.000000</td>\n",
       "      <td>0.000000</td>\n",
       "      <td>-2.407886</td>\n",
       "    </tr>\n",
       "    <tr>\n",
       "      <th>41</th>\n",
       "      <td>2013-06-01</td>\n",
       "      <td>0.0000</td>\n",
       "      <td>0.6102</td>\n",
       "      <td>0.000000</td>\n",
       "      <td>0.000000</td>\n",
       "      <td>1.043219</td>\n",
       "    </tr>\n",
       "    <tr>\n",
       "      <th>42</th>\n",
       "      <td>2013-07-01</td>\n",
       "      <td>0.0209</td>\n",
       "      <td>0.7297</td>\n",
       "      <td>2.864191</td>\n",
       "      <td>0.000000</td>\n",
       "      <td>19.583743</td>\n",
       "    </tr>\n",
       "    <tr>\n",
       "      <th>43</th>\n",
       "      <td>2013-08-01</td>\n",
       "      <td>0.0000</td>\n",
       "      <td>0.7156</td>\n",
       "      <td>0.000000</td>\n",
       "      <td>-100.000000</td>\n",
       "      <td>-1.932301</td>\n",
       "    </tr>\n",
       "    <tr>\n",
       "      <th>44</th>\n",
       "      <td>2013-09-01</td>\n",
       "      <td>0.0079</td>\n",
       "      <td>0.7179</td>\n",
       "      <td>1.100432</td>\n",
       "      <td>0.000000</td>\n",
       "      <td>0.321409</td>\n",
       "    </tr>\n",
       "    <tr>\n",
       "      <th>45</th>\n",
       "      <td>2013-10-01</td>\n",
       "      <td>0.0920</td>\n",
       "      <td>0.8157</td>\n",
       "      <td>11.278656</td>\n",
       "      <td>1064.556962</td>\n",
       "      <td>13.623067</td>\n",
       "    </tr>\n",
       "    <tr>\n",
       "      <th>46</th>\n",
       "      <td>2013-11-01</td>\n",
       "      <td>0.0207</td>\n",
       "      <td>0.7236</td>\n",
       "      <td>2.860697</td>\n",
       "      <td>-77.500000</td>\n",
       "      <td>-11.290916</td>\n",
       "    </tr>\n",
       "    <tr>\n",
       "      <th>47</th>\n",
       "      <td>2013-12-01</td>\n",
       "      <td>0.0494</td>\n",
       "      <td>0.7942</td>\n",
       "      <td>6.220096</td>\n",
       "      <td>138.647343</td>\n",
       "      <td>9.756772</td>\n",
       "    </tr>\n",
       "  </tbody>\n",
       "</table>\n",
       "</div>"
      ],
      "text/plain": [
       "         Data      TR   Selic    Relacao       Var_TR  Var_Selic\n",
       "36 2013-01-01  0.0000  0.6105   0.000000     0.000000   9.154300\n",
       "37 2013-02-01  0.0000  0.4992   0.000000     0.000000 -18.230958\n",
       "38 2013-03-01  0.0000  0.5548   0.000000     0.000000  11.137821\n",
       "39 2013-04-01  0.0000  0.6188   0.000000     0.000000  11.535689\n",
       "40 2013-05-01  0.0000  0.6039   0.000000     0.000000  -2.407886\n",
       "41 2013-06-01  0.0000  0.6102   0.000000     0.000000   1.043219\n",
       "42 2013-07-01  0.0209  0.7297   2.864191     0.000000  19.583743\n",
       "43 2013-08-01  0.0000  0.7156   0.000000  -100.000000  -1.932301\n",
       "44 2013-09-01  0.0079  0.7179   1.100432     0.000000   0.321409\n",
       "45 2013-10-01  0.0920  0.8157  11.278656  1064.556962  13.623067\n",
       "46 2013-11-01  0.0207  0.7236   2.860697   -77.500000 -11.290916\n",
       "47 2013-12-01  0.0494  0.7942   6.220096   138.647343   9.756772"
      ]
     },
     "execution_count": 24,
     "metadata": {},
     "output_type": "execute_result"
    }
   ],
   "source": [
    "tabela.query('Data >= \"2013-01-01\" and Data <= \"2013-12-01\"')"
   ]
  },
  {
   "cell_type": "code",
   "execution_count": 56,
   "id": "13e00c6b",
   "metadata": {},
   "outputs": [
    {
     "data": {
      "text/html": [
       "<div>\n",
       "<style scoped>\n",
       "    .dataframe tbody tr th:only-of-type {\n",
       "        vertical-align: middle;\n",
       "    }\n",
       "\n",
       "    .dataframe tbody tr th {\n",
       "        vertical-align: top;\n",
       "    }\n",
       "\n",
       "    .dataframe thead th {\n",
       "        text-align: right;\n",
       "    }\n",
       "</style>\n",
       "<table border=\"1\" class=\"dataframe\">\n",
       "  <thead>\n",
       "    <tr style=\"text-align: right;\">\n",
       "      <th></th>\n",
       "      <th>Selic</th>\n",
       "    </tr>\n",
       "  </thead>\n",
       "  <tbody>\n",
       "    <tr>\n",
       "      <th>Média</th>\n",
       "      <td>0.93</td>\n",
       "    </tr>\n",
       "    <tr>\n",
       "      <th>Desvio padrão</th>\n",
       "      <td>0.14</td>\n",
       "    </tr>\n",
       "    <tr>\n",
       "      <th>Mínimo</th>\n",
       "      <td>0.69</td>\n",
       "    </tr>\n",
       "    <tr>\n",
       "      <th>25%</th>\n",
       "      <td>0.82</td>\n",
       "    </tr>\n",
       "    <tr>\n",
       "      <th>50%</th>\n",
       "      <td>0.91</td>\n",
       "    </tr>\n",
       "    <tr>\n",
       "      <th>75%</th>\n",
       "      <td>1.06</td>\n",
       "    </tr>\n",
       "    <tr>\n",
       "      <th>Máximo</th>\n",
       "      <td>1.22</td>\n",
       "    </tr>\n",
       "  </tbody>\n",
       "</table>\n",
       "</div>"
      ],
      "text/plain": [
       "               Selic\n",
       "Média           0.93\n",
       "Desvio padrão   0.14\n",
       "Mínimo          0.69\n",
       "25%             0.82\n",
       "50%             0.91\n",
       "75%             1.06\n",
       "Máximo          1.22"
      ]
     },
     "execution_count": 56,
     "metadata": {},
     "output_type": "execute_result"
    }
   ],
   "source": [
    "resumo2 = pd.DataFrame(round(tabela.query('TR != 0')['Selic'].describe(),2))\n",
    "resumo2.columns = ['Selic']\n",
    "resumo2 = resumo2[1:]\n",
    "resumo2.index = ['Média','Desvio padrão', 'Mínimo', '25%', '50%','75%','Máximo']\n",
    "resumo2\n",
    "# tabela.query('TR != 0')['Selic'].describe()"
   ]
  },
  {
   "cell_type": "code",
   "execution_count": 26,
   "id": "43e71fbe",
   "metadata": {},
   "outputs": [
    {
     "data": {
      "text/plain": [
       "count    75.000000\n",
       "mean     10.235161\n",
       "std       4.923134\n",
       "min       1.100432\n",
       "25%       6.421565\n",
       "50%      10.264386\n",
       "75%      13.697009\n",
       "max      20.804382\n",
       "Name: Relacao, dtype: float64"
      ]
     },
     "execution_count": 26,
     "metadata": {},
     "output_type": "execute_result"
    }
   ],
   "source": [
    "tabela.query('TR != 0')['Relacao'].describe()"
   ]
  },
  {
   "cell_type": "code",
   "execution_count": 27,
   "id": "dd5efc18",
   "metadata": {},
   "outputs": [
    {
     "data": {
      "text/plain": [
       "(0.69, 0.745]      6\n",
       "(0.745, 0.798]     6\n",
       "(0.798, 0.851]    13\n",
       "(0.851, 0.904]    12\n",
       "(0.904, 0.958]     9\n",
       "(0.958, 1.011]     7\n",
       "(1.011, 1.064]     7\n",
       "(1.064, 1.117]     9\n",
       "(1.117, 1.17]      4\n",
       "(1.17, 1.223]      2\n",
       "Name: Selic, dtype: int64"
      ]
     },
     "execution_count": 27,
     "metadata": {},
     "output_type": "execute_result"
    }
   ],
   "source": [
    "tabela.query('TR != 0')['Selic'].value_counts(bins = 10, sort=False)"
   ]
  },
  {
   "cell_type": "code",
   "execution_count": 28,
   "id": "11337462",
   "metadata": {},
   "outputs": [
    {
     "data": {
      "text/plain": [
       "<AxesSubplot:>"
      ]
     },
     "execution_count": 28,
     "metadata": {},
     "output_type": "execute_result"
    },
    {
     "data": {
      "image/png": "[encoded data removed]",
      "text/plain": [
       "<Figure size 432x288 with 1 Axes>"
      ]
     },
     "metadata": {
      "needs_background": "light"
     },
     "output_type": "display_data"
    }
   ],
   "source": [
    "tabela.query('TR != 0')['Selic'].hist(bins=5)"
   ]
  },
  {
   "cell_type": "code",
   "execution_count": 29,
   "id": "54b359a3",
   "metadata": {},
   "outputs": [
    {
     "data": {
      "text/plain": [
       "10.264385692068432"
      ]
     },
     "execution_count": 29,
     "metadata": {},
     "output_type": "execute_result"
    }
   ],
   "source": [
    "tabela.query('TR != 0')['Relacao'].median()"
   ]
  },
  {
   "cell_type": "code",
   "execution_count": 30,
   "id": "c0d6e5b9",
   "metadata": {},
   "outputs": [
    {
     "data": {
      "text/html": [
       "<div>\n",
       "<style scoped>\n",
       "    .dataframe tbody tr th:only-of-type {\n",
       "        vertical-align: middle;\n",
       "    }\n",
       "\n",
       "    .dataframe tbody tr th {\n",
       "        vertical-align: top;\n",
       "    }\n",
       "\n",
       "    .dataframe thead th {\n",
       "        text-align: right;\n",
       "    }\n",
       "</style>\n",
       "<table border=\"1\" class=\"dataframe\">\n",
       "  <thead>\n",
       "    <tr style=\"text-align: right;\">\n",
       "      <th></th>\n",
       "      <th>Data</th>\n",
       "      <th>TR</th>\n",
       "      <th>Selic</th>\n",
       "    </tr>\n",
       "  </thead>\n",
       "  <tbody>\n",
       "    <tr>\n",
       "      <th>0</th>\n",
       "      <td>2010-01-01</td>\n",
       "      <td>0.0000</td>\n",
       "      <td>0.6706</td>\n",
       "    </tr>\n",
       "    <tr>\n",
       "      <th>1</th>\n",
       "      <td>2010-02-01</td>\n",
       "      <td>0.0000</td>\n",
       "      <td>0.6034</td>\n",
       "    </tr>\n",
       "    <tr>\n",
       "      <th>2</th>\n",
       "      <td>2010-03-01</td>\n",
       "      <td>0.0792</td>\n",
       "      <td>0.7716</td>\n",
       "    </tr>\n",
       "    <tr>\n",
       "      <th>3</th>\n",
       "      <td>2010-04-01</td>\n",
       "      <td>0.0000</td>\n",
       "      <td>0.6761</td>\n",
       "    </tr>\n",
       "    <tr>\n",
       "      <th>4</th>\n",
       "      <td>2010-05-01</td>\n",
       "      <td>0.0510</td>\n",
       "      <td>0.7622</td>\n",
       "    </tr>\n",
       "    <tr>\n",
       "      <th>...</th>\n",
       "      <td>...</td>\n",
       "      <td>...</td>\n",
       "      <td>...</td>\n",
       "    </tr>\n",
       "    <tr>\n",
       "      <th>91</th>\n",
       "      <td>2017-08-01</td>\n",
       "      <td>0.0509</td>\n",
       "      <td>0.8107</td>\n",
       "    </tr>\n",
       "    <tr>\n",
       "      <th>92</th>\n",
       "      <td>2017-09-01</td>\n",
       "      <td>0.0000</td>\n",
       "      <td>0.6458</td>\n",
       "    </tr>\n",
       "    <tr>\n",
       "      <th>93</th>\n",
       "      <td>2017-10-01</td>\n",
       "      <td>0.0000</td>\n",
       "      <td>0.6228</td>\n",
       "    </tr>\n",
       "    <tr>\n",
       "      <th>94</th>\n",
       "      <td>2017-11-01</td>\n",
       "      <td>0.0000</td>\n",
       "      <td>0.5756</td>\n",
       "    </tr>\n",
       "    <tr>\n",
       "      <th>95</th>\n",
       "      <td>2017-12-01</td>\n",
       "      <td>0.0000</td>\n",
       "      <td>0.5459</td>\n",
       "    </tr>\n",
       "  </tbody>\n",
       "</table>\n",
       "<p>96 rows × 3 columns</p>\n",
       "</div>"
      ],
      "text/plain": [
       "         Data      TR   Selic\n",
       "0  2010-01-01  0.0000  0.6706\n",
       "1  2010-02-01  0.0000  0.6034\n",
       "2  2010-03-01  0.0792  0.7716\n",
       "3  2010-04-01  0.0000  0.6761\n",
       "4  2010-05-01  0.0510  0.7622\n",
       "..        ...     ...     ...\n",
       "91 2017-08-01  0.0509  0.8107\n",
       "92 2017-09-01  0.0000  0.6458\n",
       "93 2017-10-01  0.0000  0.6228\n",
       "94 2017-11-01  0.0000  0.5756\n",
       "95 2017-12-01  0.0000  0.5459\n",
       "\n",
       "[96 rows x 3 columns]"
      ]
     },
     "execution_count": 30,
     "metadata": {},
     "output_type": "execute_result"
    }
   ],
   "source": [
    "tabela2 = pd.DataFrame(tabela[['Data', 'TR', 'Selic']])\n",
    "tabela2"
   ]
  },
  {
   "cell_type": "code",
   "execution_count": 31,
   "id": "3fdaa4d0",
   "metadata": {
    "scrolled": true
   },
   "outputs": [
    {
     "data": {
      "text/plain": [
       "<AxesSubplot:xlabel='Relacao', ylabel='Count'>"
      ]
     },
     "execution_count": 31,
     "metadata": {},
     "output_type": "execute_result"
    },
    {
     "data": {
      "image/png": "[encoded data removed]",
      "text/plain": [
       "<Figure size 432x288 with 1 Axes>"
      ]
     },
     "metadata": {
      "needs_background": "light"
     },
     "output_type": "display_data"
    }
   ],
   "source": [
    "sns.histplot(data = tabela.query('TR != 0')['Relacao'])"
   ]
  }
 ],
 "metadata": {
  "kernelspec": {
   "display_name": "Python 3 (ipykernel)",
   "language": "python",
   "name": "python3"
  },
  "language_info": {
   "codemirror_mode": {
    "name": "ipython",
    "version": 3
   },
   "file_extension": ".py",
   "mimetype": "text/x-python",
   "name": "python",
   "nbconvert_exporter": "python",
   "pygments_lexer": "ipython3",
   "version": "3.8.10"
  }
 },
 "nbformat": 4,
 "nbformat_minor": 5
}
